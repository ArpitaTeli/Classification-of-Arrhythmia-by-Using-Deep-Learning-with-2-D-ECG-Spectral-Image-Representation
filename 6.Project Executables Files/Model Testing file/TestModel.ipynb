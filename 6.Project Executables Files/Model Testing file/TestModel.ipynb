{
  "nbformat": 4,
  "nbformat_minor": 0,
  "metadata": {
    "colab": {
      "provenance": []
    },
    "kernelspec": {
      "name": "python3",
      "display_name": "Python 3"
    },
    "language_info": {
      "name": "python"
    }
  },
  "cells": [
    {
      "cell_type": "code",
      "execution_count": 2,
      "metadata": {
        "colab": {
          "base_uri": "https://localhost:8080/"
        },
        "id": "2Rlq6zNMWCom",
        "outputId": "41bca8a5-0fd0-4143-d0b4-bd6d2f32d931"
      },
      "outputs": [
        {
          "output_type": "stream",
          "name": "stderr",
          "text": [
            "WARNING:absl:Compiled the loaded model, but the compiled metrics have yet to be built. `model.compile_metrics` will be empty until you train or evaluate the model.\n"
          ]
        }
      ],
      "source": [
        "from tensorflow.keras.models import load_model\n",
        "from keras.preprocessing import image\n",
        "\n",
        "model = load_model(\"/content/ECG_Model2.h5\") # Loading the model for testing"
      ]
    },
    {
      "cell_type": "code",
      "source": [
        "import numpy as np # Import numpy\n",
        "img = image.load_img(\"/content/pac.jpeg\", target_size=(224, 224))  # Loading the image\n",
        "x = image.img_to_array(img)  # Image to array\n",
        "x = np.expand_dims(x, axis=0)  # Changing the shape\n",
        "\n",
        "# Predicting the class probabilities\n",
        "pred = model.predict(x)\n",
        "\n",
        "# Get the class with the highest probability\n",
        "pred_class = np.argmax(pred, axis=1)  # This returns the index of the highest probability\n",
        "pred_class"
      ],
      "metadata": {
        "colab": {
          "base_uri": "https://localhost:8080/"
        },
        "id": "taCZf7bjWnLY",
        "outputId": "0ca23c88-2cd9-4797-9c92-39e2e16115d4"
      },
      "execution_count": 5,
      "outputs": [
        {
          "output_type": "stream",
          "name": "stdout",
          "text": [
            "\u001b[1m1/1\u001b[0m \u001b[32m━━━━━━━━━━━━━━━━━━━━\u001b[0m\u001b[37m\u001b[0m \u001b[1m0s\u001b[0m 248ms/step\n"
          ]
        },
        {
          "output_type": "execute_result",
          "data": {
            "text/plain": [
              "array([2])"
            ]
          },
          "metadata": {},
          "execution_count": 5
        }
      ]
    },
    {
      "cell_type": "code",
      "source": [
        "index = ['Left Bundle Branch Block', 'Normal', 'Premature Atrial Contraction',\n",
        "         'Premature Ventricular Contractions', 'Right Bundle Branch Block', 'Ventricular Fibrillation']\n",
        "\n",
        "# Use pred_class from the previous prediction result\n",
        "result = index[pred_class[0]]  # Access the first (and likely only) predicted class index\n",
        "result"
      ],
      "metadata": {
        "colab": {
          "base_uri": "https://localhost:8080/",
          "height": 36
        },
        "id": "KxgKCisGXGXL",
        "outputId": "903804f2-d960-4547-ef95-c2008f4b9c66"
      },
      "execution_count": 6,
      "outputs": [
        {
          "output_type": "execute_result",
          "data": {
            "text/plain": [
              "'Premature Atrial Contraction'"
            ],
            "application/vnd.google.colaboratory.intrinsic+json": {
              "type": "string"
            }
          },
          "metadata": {},
          "execution_count": 6
        }
      ]
    }
  ]
}